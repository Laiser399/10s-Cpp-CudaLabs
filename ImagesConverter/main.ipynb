{
 "cells": [
  {
   "cell_type": "code",
   "execution_count": 1,
   "metadata": {
    "collapsed": true,
    "pycharm": {
     "name": "#%%\n"
    }
   },
   "outputs": [],
   "source": [
    "from PIL import Image\n",
    "import random"
   ]
  },
  {
   "cell_type": "code",
   "execution_count": 8,
   "outputs": [],
   "source": [
    "def convert_to_custom(image_file_path, output_file_path):\n",
    "    with Image.open(image_file_path) as image:\n",
    "        with open(output_file_path, 'wb') as file:\n",
    "            file.write(image.width.to_bytes(4, 'little'))\n",
    "            file.write(image.height.to_bytes(4, 'little'))\n",
    "            for i in range(image.height):\n",
    "                for j in range(image.width):\n",
    "                    pixel = image.getpixel((j, i))\n",
    "                    file.write(pixel[0].to_bytes(1, 'little'))\n",
    "                    file.write(pixel[1].to_bytes(1, 'little'))\n",
    "                    file.write(pixel[2].to_bytes(1, 'little'))\n",
    "                    a = pixel[3].to_bytes(1, 'little') if len(pixel) >= 4 else (255).to_bytes(1, 'little')\n",
    "                    file.write(a)"
   ],
   "metadata": {
    "collapsed": false,
    "pycharm": {
     "name": "#%%\n"
    }
   }
  },
  {
   "cell_type": "code",
   "execution_count": 3,
   "outputs": [],
   "source": [
    "def convert_from_custom(input_file_path, image_file_path):\n",
    "    with open(input_file_path, 'rb') as file:\n",
    "        width = int.from_bytes(file.read(4), 'little')\n",
    "        height = int.from_bytes(file.read(4), 'little')\n",
    "\n",
    "        image = Image.new('RGBA', (width, height))\n",
    "        for i in range(height):\n",
    "            for j in range(width):\n",
    "                color = file.read(4)\n",
    "                image.putpixel((j, i), (color[0], color[1], color[2], color[3]))\n",
    "        image.save(image_file_path)\n",
    "        image.close()"
   ],
   "metadata": {
    "collapsed": false,
    "pycharm": {
     "name": "#%%\n"
    }
   }
  },
  {
   "cell_type": "code",
   "execution_count": 39,
   "outputs": [],
   "source": [
    "convert_to_custom('./image1.png', './image1_binary')"
   ],
   "metadata": {
    "collapsed": false,
    "pycharm": {
     "name": "#%%\n"
    }
   }
  },
  {
   "cell_type": "code",
   "execution_count": 40,
   "outputs": [],
   "source": [
    "convert_from_custom('./image1_binary', './image1_rollback.png')"
   ],
   "metadata": {
    "collapsed": false,
    "pycharm": {
     "name": "#%%\n"
    }
   }
  },
  {
   "cell_type": "code",
   "execution_count": 6,
   "outputs": [],
   "source": [
    "convert_from_custom('../Lab2/image1_binary_res', '../Lab2/image1_binary_res.png')"
   ],
   "metadata": {
    "collapsed": false,
    "pycharm": {
     "name": "#%%\n"
    }
   }
  },
  {
   "cell_type": "code",
   "execution_count": 22,
   "outputs": [],
   "source": [
    "convert_to_custom('D:\\_SyncNodes\\Projects\\Cpp\\CudaLabs\\Lab2\\images\\source1.png',\n",
    "                  'D:\\_SyncNodes\\Projects\\Cpp\\CudaLabs\\Lab2\\images\\source1.bin')"
   ],
   "metadata": {
    "collapsed": false,
    "pycharm": {
     "name": "#%%\n"
    }
   }
  },
  {
   "cell_type": "code",
   "execution_count": 6,
   "outputs": [],
   "source": [
    "convert_from_custom('D:\\_SyncNodes\\Projects\\Cpp\\CudaLabs\\Lab2\\images\\source1_res.bin',\n",
    "                    'D:\\_SyncNodes\\Projects\\Cpp\\CudaLabs\\Lab2\\images\\source1_res.png')"
   ],
   "metadata": {
    "collapsed": false,
    "pycharm": {
     "name": "#%%\n"
    }
   }
  },
  {
   "cell_type": "code",
   "execution_count": 28,
   "outputs": [],
   "source": [
    "import os\n",
    "\n",
    "\n",
    "def generate_rand_custom_file(file_path, width, height):\n",
    "    with open(file_path, 'wb') as file:\n",
    "        file.write(width.to_bytes(4, 'little'))\n",
    "        file.write(height.to_bytes(4, 'little'))\n",
    "\n",
    "        for _ in range(width * height):\n",
    "            color = random.randint(0, 255), random.randint(0, 255), random.randint(0, 255), 255\n",
    "            map(lambda x: x.to_bytes(1, 'little'), color)\n",
    "            file.write(color[0].to_bytes(1, 'little'))\n",
    "            file.write(color[1].to_bytes(1, 'little'))\n",
    "            file.write(color[2].to_bytes(1, 'little'))\n",
    "            file.write(color[3].to_bytes(1, 'little'))\n",
    "\n",
    "\n",
    "def generate_random_file(file_path, width, height):\n",
    "    with open(file_path, 'wb') as file:\n",
    "        file.write(width.to_bytes(4, 'little'))\n",
    "        file.write(height.to_bytes(4, 'little'))\n",
    "        file.write(os.urandom(width * height * 4))"
   ],
   "metadata": {
    "collapsed": false,
    "pycharm": {
     "name": "#%%\n"
    }
   }
  },
  {
   "cell_type": "code",
   "execution_count": 64,
   "outputs": [],
   "source": [
    "# 16 65534 — входная картинка\n",
    "# 4 32767 — выходная.\n",
    "\n",
    "name = 'rand_16x65534'\n",
    "generate_rand_custom_file(f'../Lab2/images/{name}.bin', 16, 65534)\n",
    "convert_from_custom(f'../Lab2/images/{name}.bin', f'../Lab2/images/{name}.png')"
   ],
   "metadata": {
    "collapsed": false,
    "pycharm": {
     "name": "#%%\n"
    }
   }
  },
  {
   "cell_type": "code",
   "execution_count": 5,
   "outputs": [],
   "source": [
    "# rand_4x32767_res.bin\n",
    "convert_from_custom('../Lab2/images/rand_4x32767_res.bin', '../Lab2/images/rand_4x32767_res.png')"
   ],
   "metadata": {
    "collapsed": false,
    "pycharm": {
     "name": "#%%\n"
    }
   }
  },
  {
   "cell_type": "code",
   "execution_count": 5,
   "outputs": [],
   "source": [
    "generate_rand_custom_file(f'../Lab2_tests/images/rand_4000x4000.bin', 4000, 4000)"
   ],
   "metadata": {
    "collapsed": false,
    "pycharm": {
     "name": "#%%\n"
    }
   }
  },
  {
   "cell_type": "code",
   "execution_count": 12,
   "outputs": [],
   "source": [
    "generate_random_file(f'../Lab2_tests/images/rand_20000x20000.bin', 20000, 20000)"
   ],
   "metadata": {
    "collapsed": false,
    "pycharm": {
     "name": "#%%\n"
    }
   }
  },
  {
   "cell_type": "code",
   "execution_count": 27,
   "outputs": [],
   "source": [
    "convert_to_custom(r'D:\\_SyncNodes\\Projects\\Cpp\\CudaLabs\\Lab2\\images\\t2.png',\n",
    "                  r'D:\\_SyncNodes\\Projects\\Cpp\\CudaLabs\\Lab2\\images\\t2.bin')"
   ],
   "metadata": {
    "collapsed": false,
    "pycharm": {
     "name": "#%%\n"
    }
   }
  },
  {
   "cell_type": "code",
   "execution_count": 28,
   "outputs": [],
   "source": [
    "convert_from_custom(r'D:\\_SyncNodes\\Projects\\Cpp\\CudaLabs\\Lab2\\images\\t2_res.bin',\n",
    "                    r'D:\\_SyncNodes\\Projects\\Cpp\\CudaLabs\\Lab2\\images\\t2_res.png')"
   ],
   "metadata": {
    "collapsed": false,
    "pycharm": {
     "name": "#%%\n"
    }
   }
  },
  {
   "cell_type": "code",
   "execution_count": 10,
   "outputs": [],
   "source": [
    "convert_to_custom(r'D:\\_SyncNodes\\Projects\\Cpp\\CudaLabs\\Lab3\\in\\map1.png',\n",
    "                  r'D:\\_SyncNodes\\Projects\\Cpp\\CudaLabs\\Lab3\\in\\map1.data')\n",
    "convert_to_custom(r'D:\\_SyncNodes\\Projects\\Cpp\\CudaLabs\\Lab3\\in\\map2.png',\n",
    "                  r'D:\\_SyncNodes\\Projects\\Cpp\\CudaLabs\\Lab3\\in\\map2.data')"
   ],
   "metadata": {
    "collapsed": false,
    "pycharm": {
     "name": "#%%\n"
    }
   }
  },
  {
   "cell_type": "code",
   "execution_count": 16,
   "outputs": [],
   "source": [
    "def apply_class_colors(input_file_path, output_file_path, colors):\n",
    "    with open(input_file_path, 'rb') as file:\n",
    "        width = int.from_bytes(file.read(4), 'little')\n",
    "        height = int.from_bytes(file.read(4), 'little')\n",
    "\n",
    "        image = Image.new('RGBA', (width, height))\n",
    "        for i in range(height):\n",
    "            for j in range(width):\n",
    "                color = file.read(4)\n",
    "                class_color = colors[color[3]]\n",
    "                image.putpixel((j, i), class_color)\n",
    "        image.save(output_file_path)\n",
    "        image.close()"
   ],
   "metadata": {
    "collapsed": false,
    "pycharm": {
     "name": "#%%\n"
    }
   }
  },
  {
   "cell_type": "code",
   "execution_count": 19,
   "outputs": [],
   "source": [
    "class_colors = [\n",
    "    (40, 75, 99),  # water\n",
    "    (135, 168, 120),  # forest\n",
    "    (255, 0, 0),  # houses\n",
    "    (244, 253, 175),  # roads\n",
    "]\n",
    "apply_class_colors(r'D:\\_SyncNodes\\Projects\\Cpp\\CudaLabs\\Lab3\\out\\map1.data',\n",
    "                   r'D:\\_SyncNodes\\Projects\\Cpp\\CudaLabs\\Lab3\\out\\map1_classified.png',\n",
    "                   class_colors)"
   ],
   "metadata": {
    "collapsed": false,
    "pycharm": {
     "name": "#%%\n"
    }
   }
  },
  {
   "cell_type": "code",
   "execution_count": 21,
   "outputs": [],
   "source": [
    "class_colors = [\n",
    "    (40, 75, 99),  # water\n",
    "    (135, 168, 120),  # forest\n",
    "    (244, 253, 175),  # roads\n",
    "]\n",
    "apply_class_colors(r'D:\\_SyncNodes\\Projects\\Cpp\\CudaLabs\\Lab3\\out\\map1_2.data',\n",
    "                   r'D:\\_SyncNodes\\Projects\\Cpp\\CudaLabs\\Lab3\\out\\map1_2_classified.png',\n",
    "                   class_colors)"
   ],
   "metadata": {
    "collapsed": false,
    "pycharm": {
     "name": "#%%\n"
    }
   }
  },
  {
   "cell_type": "code",
   "execution_count": 23,
   "outputs": [],
   "source": [
    "class_colors = [\n",
    "    (40, 75, 99),  # water\n",
    "    (135, 168, 120),  # forest\n",
    "    (244, 253, 175),  # roads\n",
    "]\n",
    "apply_class_colors(r'D:\\_SyncNodes\\Projects\\Cpp\\CudaLabs\\Lab3\\out\\map1_3.data',\n",
    "                   r'D:\\_SyncNodes\\Projects\\Cpp\\CudaLabs\\Lab3\\out\\map1_3_classified.png',\n",
    "                   class_colors)"
   ],
   "metadata": {
    "collapsed": false,
    "pycharm": {
     "name": "#%%\n"
    }
   }
  },
  {
   "cell_type": "code",
   "execution_count": 24,
   "outputs": [],
   "source": [
    "class_colors = [\n",
    "    (243, 154, 157),  # houses\n",
    "    (63, 108, 81),  # trees\n",
    "    (109, 177, 191),  # water\n",
    "]\n",
    "apply_class_colors(r'D:\\_SyncNodes\\Projects\\Cpp\\CudaLabs\\Lab3\\out\\map2_1.data',\n",
    "                   r'D:\\_SyncNodes\\Projects\\Cpp\\CudaLabs\\Lab3\\out\\map2_1_classified.png',\n",
    "                   class_colors)"
   ],
   "metadata": {
    "collapsed": false,
    "pycharm": {
     "name": "#%%\n"
    }
   }
  },
  {
   "cell_type": "code",
   "execution_count": 26,
   "outputs": [],
   "source": [
    "class_colors = [\n",
    "    (243, 154, 157),  # houses\n",
    "    (63, 108, 81),  # trees\n",
    "    (109, 177, 191),  # water\n",
    "]\n",
    "apply_class_colors(r'D:\\_SyncNodes\\Projects\\Cpp\\CudaLabs\\Lab3\\out\\map2_2.data',\n",
    "                   r'D:\\_SyncNodes\\Projects\\Cpp\\CudaLabs\\Lab3\\out\\map2_2_classified.png',\n",
    "                   class_colors)"
   ],
   "metadata": {
    "collapsed": false,
    "pycharm": {
     "name": "#%%\n"
    }
   }
  },
  {
   "cell_type": "code",
   "execution_count": 29,
   "outputs": [],
   "source": [
    "generate_random_file(r'D:\\_SyncNodes\\Projects\\Cpp\\CudaLabs\\Lab3\\in\\rand_20000x20000.data', 20000, 20000)"
   ],
   "metadata": {
    "collapsed": false,
    "pycharm": {
     "name": "#%%\n"
    }
   }
  },
  {
   "cell_type": "code",
   "execution_count": 30,
   "outputs": [],
   "source": [
    "generate_random_file(r'D:\\_SyncNodes\\Projects\\Cpp\\CudaLabs\\Lab3\\in\\rand_1000x1000.data', 1000, 1000)"
   ],
   "metadata": {
    "collapsed": false,
    "pycharm": {
     "name": "#%%\n"
    }
   }
  },
  {
   "cell_type": "code",
   "execution_count": 2,
   "outputs": [],
   "source": [
    "import random\n",
    "\n",
    "random.seed(123)\n",
    "def generate_random_matrix(output_file_path, matrix_size):\n",
    "    with open(output_file_path, 'w') as output_file:\n",
    "        output_file.write(f'{matrix_size}\\n')\n",
    "        for i in range(matrix_size):\n",
    "            for j in range(matrix_size):\n",
    "                output_file.write(f'{random.random() * 200 - 100:.1f} ')\n",
    "            output_file.write('\\n')\n",
    "generate_random_matrix(\n",
    "    'test_matrix.txt',\n",
    "    3\n",
    ")"
   ],
   "metadata": {
    "collapsed": false,
    "pycharm": {
     "name": "#%%\n"
    }
   }
  },
  {
   "cell_type": "code",
   "execution_count": 93,
   "outputs": [],
   "source": [
    "generate_random_matrix(\n",
    "    r'D:\\_SyncNodes\\Projects\\Cpp\\CudaLabs\\Lab4\\in\\matrix_10000.txt',\n",
    "    10000\n",
    ")"
   ],
   "metadata": {
    "collapsed": false,
    "pycharm": {
     "name": "#%%\n"
    }
   }
  },
  {
   "cell_type": "code",
   "execution_count": 94,
   "outputs": [],
   "source": [
    "generate_random_matrix(\n",
    "    r'D:\\_SyncNodes\\Projects\\Cpp\\CudaLabs\\Lab4\\in\\matrix_1000.txt',\n",
    "    1000\n",
    ")"
   ],
   "metadata": {
    "collapsed": false,
    "pycharm": {
     "name": "#%%\n"
    }
   }
  },
  {
   "cell_type": "code",
   "execution_count": 3,
   "outputs": [],
   "source": [
    "generate_random_matrix(\n",
    "    r'D:\\_SyncNodes\\Projects\\Cpp\\CudaLabs\\Lab4\\in\\matrix_100.txt',\n",
    "    100\n",
    ")"
   ],
   "metadata": {
    "collapsed": false,
    "pycharm": {
     "name": "#%%\n"
    }
   }
  }
 ],
 "metadata": {
  "kernelspec": {
   "display_name": "Python 3",
   "language": "python",
   "name": "python3"
  },
  "language_info": {
   "codemirror_mode": {
    "name": "ipython",
    "version": 2
   },
   "file_extension": ".py",
   "mimetype": "text/x-python",
   "name": "python",
   "nbconvert_exporter": "python",
   "pygments_lexer": "ipython2",
   "version": "2.7.6"
  }
 },
 "nbformat": 4,
 "nbformat_minor": 0
}